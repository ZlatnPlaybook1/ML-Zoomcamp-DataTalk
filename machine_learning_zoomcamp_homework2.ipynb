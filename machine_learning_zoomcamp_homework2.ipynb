{
 "cells": [
  {
   "cell_type": "markdown",
   "id": "87a6e6a8",
   "metadata": {},
   "source": [
    "# Machine Learning Zoomcamp"
   ]
  },
  {
   "cell_type": "markdown",
   "id": "0a9c69a5",
   "metadata": {},
   "source": [
    "## Homework 1"
   ]
  },
  {
   "cell_type": "code",
   "execution_count": 32,
   "id": "d85637a9",
   "metadata": {},
   "outputs": [],
   "source": [
    "import pandas as pd\n",
    "import numpy as np\n",
    "import matplotlib.pyplot as plt\n",
    "import seaborn as sns"
   ]
  },
  {
   "cell_type": "code",
   "execution_count": 33,
   "id": "df177cea",
   "metadata": {},
   "outputs": [
    {
     "name": "stdout",
     "output_type": "stream",
     "text": [
      "   engine_displacement  num_cylinders  horsepower  vehicle_weight  \\\n",
      "0                  170            3.0       159.0     3413.433759   \n",
      "1                  130            5.0        97.0     3149.664934   \n",
      "2                  170            NaN        78.0     3079.038997   \n",
      "3                  220            4.0         NaN     2542.392402   \n",
      "4                  210            1.0       140.0     3460.870990   \n",
      "\n",
      "   acceleration  model_year  origin fuel_type         drivetrain  num_doors  \\\n",
      "0          17.7        2003  Europe  Gasoline    All-wheel drive        0.0   \n",
      "1          17.8        2007     USA  Gasoline  Front-wheel drive        0.0   \n",
      "2          15.1        2018  Europe  Gasoline  Front-wheel drive        0.0   \n",
      "3          20.2        2009     USA    Diesel    All-wheel drive        2.0   \n",
      "4          14.4        2009  Europe  Gasoline    All-wheel drive        2.0   \n",
      "\n",
      "   fuel_efficiency_mpg  \n",
      "0            13.231729  \n",
      "1            13.688217  \n",
      "2            14.246341  \n",
      "3            16.912736  \n",
      "4            12.488369  \n"
     ]
    }
   ],
   "source": [
    "# Getting the data\n",
    "url = \"https://raw.githubusercontent.com/alexeygrigorev/datasets/master/car_fuel_efficiency.csv\" \n",
    "df = pd.read_csv(url) \n",
    "\n",
    "print(df.head())"
   ]
  },
  {
   "cell_type": "markdown",
   "id": "990de16c",
   "metadata": {},
   "source": [
    "###  Question 1. Missing values "
   ]
  },
  {
   "cell_type": "code",
   "execution_count": 34,
   "id": "e588fbd1",
   "metadata": {},
   "outputs": [
    {
     "data": {
      "text/plain": [
       "engine_displacement      0\n",
       "num_cylinders          482\n",
       "horsepower             708\n",
       "vehicle_weight           0\n",
       "acceleration           930\n",
       "model_year               0\n",
       "origin                   0\n",
       "fuel_type                0\n",
       "drivetrain               0\n",
       "num_doors              502\n",
       "fuel_efficiency_mpg      0\n",
       "dtype: int64"
      ]
     },
     "execution_count": 34,
     "metadata": {},
     "output_type": "execute_result"
    }
   ],
   "source": [
    "df.isnull().sum()  # Answer: 'horsepower'"
   ]
  },
  {
   "cell_type": "markdown",
   "id": "9a35af49",
   "metadata": {},
   "source": [
    "### Question 2. Median for horse power"
   ]
  },
  {
   "cell_type": "code",
   "execution_count": 35,
   "id": "d1a0cced",
   "metadata": {},
   "outputs": [
    {
     "data": {
      "text/plain": [
       "np.float64(149.0)"
      ]
     },
     "execution_count": 35,
     "metadata": {},
     "output_type": "execute_result"
    }
   ],
   "source": [
    "df['horsepower'].median() # Answer: 149"
   ]
  },
  {
   "cell_type": "markdown",
   "id": "d68c7b46",
   "metadata": {},
   "source": [
    "### Question 3. Filling NAs"
   ]
  },
  {
   "cell_type": "code",
   "execution_count": 36,
   "id": "417cdf2f",
   "metadata": {},
   "outputs": [],
   "source": [
    "# df = df.fillna(df.mean(numeric_only=True))\n",
    "# df.isnull().sum()"
   ]
  },
  {
   "cell_type": "markdown",
   "id": "b6cc7136",
   "metadata": {},
   "source": [
    "### Question 4. Best regularization"
   ]
  },
  {
   "cell_type": "code",
   "execution_count": 37,
   "id": "a2ae9ee6",
   "metadata": {},
   "outputs": [],
   "source": [
    "X = df.drop(columns=['fuel_efficiency_mpg']) \n",
    "y = df['fuel_efficiency_mpg']"
   ]
  },
  {
   "cell_type": "code",
   "execution_count": 38,
   "id": "44e74a1f",
   "metadata": {},
   "outputs": [
    {
     "name": "stdout",
     "output_type": "stream",
     "text": [
      "Best alpha (regularization): {'model__alpha': 0.01}\n",
      "Best CV R^2 score: 0.9759925722369773\n",
      "Test R^2 score: 0.9757064038178345\n"
     ]
    }
   ],
   "source": [
    "from sklearn.model_selection import train_test_split, GridSearchCV , cross_val_score\n",
    "from sklearn.preprocessing import StandardScaler, OneHotEncoder\n",
    "from sklearn.compose import ColumnTransformer\n",
    "from sklearn.pipeline import Pipeline\n",
    "from sklearn.linear_model import Ridge\n",
    "from sklearn.impute import SimpleImputer\n",
    "from sklearn.metrics import mean_squared_error\n",
    "\n",
    "X_train, X_test, y_train, y_test = train_test_split(\n",
    "    X, y, test_size=0.2, random_state=42\n",
    ")\n",
    "\n",
    "num_cols = ['engine_displacement','num_cylinders','horsepower',\n",
    "            'vehicle_weight','acceleration','model_year','num_doors']\n",
    "cat_cols = ['origin','fuel_type','drivetrain']\n",
    "\n",
    "\n",
    "numeric_transformer = Pipeline(steps=[\n",
    "    ('imputer', SimpleImputer(strategy=\"mean\")),\n",
    "    ('scaler', StandardScaler())\n",
    "])\n",
    "\n",
    "categorical_transformer = OneHotEncoder(drop='first', handle_unknown='ignore')\n",
    "\n",
    "preprocessor = ColumnTransformer(\n",
    "    transformers=[\n",
    "        ('num', numeric_transformer, num_cols),\n",
    "        ('cat', categorical_transformer, cat_cols)\n",
    "    ]\n",
    ")\n",
    "\n",
    "model = Ridge() \n",
    "\n",
    "pipe = Pipeline(steps=[\n",
    "    ('preprocessor', preprocessor),\n",
    "    ('model', model)\n",
    "])\n",
    "\n",
    "param_grid = {\n",
    "    'model__alpha': [0, 0.01, 1, 10, 100]\n",
    "}\n",
    "\n",
    "grid = GridSearchCV(pipe, param_grid, cv=5, scoring='r2')\n",
    "grid.fit(X_train, y_train)\n",
    "\n",
    "print(\"Best alpha (regularization):\", grid.best_params_)\n",
    "print(\"Best CV R^2 score:\", grid.best_score_)\n",
    "print(\"Test R^2 score:\", grid.score(X_test, y_test))"
   ]
  },
  {
   "cell_type": "markdown",
   "id": "7df33d04",
   "metadata": {},
   "source": [
    "### Question 5. RMSE Standard Deviation and Question 6. Evaluation on test "
   ]
  },
  {
   "cell_type": "code",
   "execution_count": null,
   "id": "04d763c9",
   "metadata": {},
   "outputs": [
    {
     "name": "stdout",
     "output_type": "stream",
     "text": [
      "Question 5 - RMSE std: 0.007125934824150676\n",
      "Answer: 0.006\n",
      "\n",
      "Question 6 - Test MSE: 0.15643959513865643\n",
      "Answer: 0.15\n"
     ]
    }
   ],
   "source": [
    "# Question 5: RMSE Standard Deviation from Cross-Validation\n",
    "best_pipe = grid.best_estimator_\n",
    "cv_mse_scores = cross_val_score(\n",
    "    best_pipe, X_train, y_train,\n",
    "    cv=5,\n",
    "    scoring='neg_mean_squared_error'\n",
    ")\n",
    "cv_rmse_scores = np.sqrt(-cv_mse_scores)\n",
    "print(\"Question 5 - RMSE std:\", cv_rmse_scores.std())\n",
    "print(\"Answer: 0.006\")\n",
    "\n",
    "# Question 6: Evaluation on Test Set (MSE)\n",
    "y_test_pred = grid.predict(X_test)\n",
    "test_mse = mean_squared_error(y_test, y_test_pred)\n",
    "print(\"\\nQuestion 6 - Test MSE:\", test_mse)\n",
    "print(\"Answer: 0.15\")"
   ]
  }
 ],
 "metadata": {
  "kernelspec": {
   "display_name": "Python 3",
   "language": "python",
   "name": "python3"
  },
  "language_info": {
   "codemirror_mode": {
    "name": "ipython",
    "version": 3
   },
   "file_extension": ".py",
   "mimetype": "text/x-python",
   "name": "python",
   "nbconvert_exporter": "python",
   "pygments_lexer": "ipython3",
   "version": "3.11.0"
  }
 },
 "nbformat": 4,
 "nbformat_minor": 5
}
