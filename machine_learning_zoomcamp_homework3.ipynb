{
 "cells": [
  {
   "cell_type": "markdown",
   "id": "bf6f5e48",
   "metadata": {},
   "source": [
    "# Machine Learning Zoomcamp"
   ]
  },
  {
   "cell_type": "markdown",
   "id": "0d0908fc",
   "metadata": {},
   "source": [
    "# Homework 3"
   ]
  },
  {
   "cell_type": "code",
   "execution_count": 63,
   "id": "2eaf6be6",
   "metadata": {},
   "outputs": [],
   "source": [
    "import pandas as pd\n",
    "import numpy as np\n",
    "import matplotlib.pyplot as plt\n",
    "import seaborn as sns"
   ]
  },
  {
   "cell_type": "code",
   "execution_count": 64,
   "id": "2022fdcf",
   "metadata": {},
   "outputs": [
    {
     "data": {
      "text/html": [
       "<div>\n",
       "<style scoped>\n",
       "    .dataframe tbody tr th:only-of-type {\n",
       "        vertical-align: middle;\n",
       "    }\n",
       "\n",
       "    .dataframe tbody tr th {\n",
       "        vertical-align: top;\n",
       "    }\n",
       "\n",
       "    .dataframe thead th {\n",
       "        text-align: right;\n",
       "    }\n",
       "</style>\n",
       "<table border=\"1\" class=\"dataframe\">\n",
       "  <thead>\n",
       "    <tr style=\"text-align: right;\">\n",
       "      <th></th>\n",
       "      <th>lead_source</th>\n",
       "      <th>industry</th>\n",
       "      <th>number_of_courses_viewed</th>\n",
       "      <th>annual_income</th>\n",
       "      <th>employment_status</th>\n",
       "      <th>location</th>\n",
       "      <th>interaction_count</th>\n",
       "      <th>lead_score</th>\n",
       "      <th>converted</th>\n",
       "    </tr>\n",
       "  </thead>\n",
       "  <tbody>\n",
       "    <tr>\n",
       "      <th>0</th>\n",
       "      <td>paid_ads</td>\n",
       "      <td>NaN</td>\n",
       "      <td>1</td>\n",
       "      <td>79450.0</td>\n",
       "      <td>unemployed</td>\n",
       "      <td>south_america</td>\n",
       "      <td>4</td>\n",
       "      <td>0.94</td>\n",
       "      <td>1</td>\n",
       "    </tr>\n",
       "    <tr>\n",
       "      <th>1</th>\n",
       "      <td>social_media</td>\n",
       "      <td>retail</td>\n",
       "      <td>1</td>\n",
       "      <td>46992.0</td>\n",
       "      <td>employed</td>\n",
       "      <td>south_america</td>\n",
       "      <td>1</td>\n",
       "      <td>0.80</td>\n",
       "      <td>0</td>\n",
       "    </tr>\n",
       "    <tr>\n",
       "      <th>2</th>\n",
       "      <td>events</td>\n",
       "      <td>healthcare</td>\n",
       "      <td>5</td>\n",
       "      <td>78796.0</td>\n",
       "      <td>unemployed</td>\n",
       "      <td>australia</td>\n",
       "      <td>3</td>\n",
       "      <td>0.69</td>\n",
       "      <td>1</td>\n",
       "    </tr>\n",
       "    <tr>\n",
       "      <th>3</th>\n",
       "      <td>paid_ads</td>\n",
       "      <td>retail</td>\n",
       "      <td>2</td>\n",
       "      <td>83843.0</td>\n",
       "      <td>NaN</td>\n",
       "      <td>australia</td>\n",
       "      <td>1</td>\n",
       "      <td>0.87</td>\n",
       "      <td>0</td>\n",
       "    </tr>\n",
       "    <tr>\n",
       "      <th>4</th>\n",
       "      <td>referral</td>\n",
       "      <td>education</td>\n",
       "      <td>3</td>\n",
       "      <td>85012.0</td>\n",
       "      <td>self_employed</td>\n",
       "      <td>europe</td>\n",
       "      <td>3</td>\n",
       "      <td>0.62</td>\n",
       "      <td>1</td>\n",
       "    </tr>\n",
       "  </tbody>\n",
       "</table>\n",
       "</div>"
      ],
      "text/plain": [
       "    lead_source    industry  number_of_courses_viewed  annual_income  \\\n",
       "0      paid_ads         NaN                         1        79450.0   \n",
       "1  social_media      retail                         1        46992.0   \n",
       "2        events  healthcare                         5        78796.0   \n",
       "3      paid_ads      retail                         2        83843.0   \n",
       "4      referral   education                         3        85012.0   \n",
       "\n",
       "  employment_status       location  interaction_count  lead_score  converted  \n",
       "0        unemployed  south_america                  4        0.94          1  \n",
       "1          employed  south_america                  1        0.80          0  \n",
       "2        unemployed      australia                  3        0.69          1  \n",
       "3               NaN      australia                  1        0.87          0  \n",
       "4     self_employed         europe                  3        0.62          1  "
      ]
     },
     "execution_count": 64,
     "metadata": {},
     "output_type": "execute_result"
    }
   ],
   "source": [
    "url = 'https://raw.githubusercontent.com/alexeygrigorev/datasets/master/course_lead_scoring.csv'\n",
    "df = pd.read_csv(url)\n",
    "\n",
    "df.head(5)"
   ]
  },
  {
   "cell_type": "code",
   "execution_count": 65,
   "id": "c956f132",
   "metadata": {},
   "outputs": [
    {
     "name": "stdout",
     "output_type": "stream",
     "text": [
      "<class 'pandas.core.frame.DataFrame'>\n",
      "RangeIndex: 1462 entries, 0 to 1461\n",
      "Data columns (total 9 columns):\n",
      " #   Column                    Non-Null Count  Dtype  \n",
      "---  ------                    --------------  -----  \n",
      " 0   lead_source               1334 non-null   object \n",
      " 1   industry                  1328 non-null   object \n",
      " 2   number_of_courses_viewed  1462 non-null   int64  \n",
      " 3   annual_income             1281 non-null   float64\n",
      " 4   employment_status         1362 non-null   object \n",
      " 5   location                  1399 non-null   object \n",
      " 6   interaction_count         1462 non-null   int64  \n",
      " 7   lead_score                1462 non-null   float64\n",
      " 8   converted                 1462 non-null   int64  \n",
      "dtypes: float64(2), int64(3), object(4)\n",
      "memory usage: 102.9+ KB\n"
     ]
    }
   ],
   "source": [
    "# Show the information of the dataset\n",
    "df.info()"
   ]
  },
  {
   "cell_type": "markdown",
   "id": "342540bd",
   "metadata": {},
   "source": [
    "## Data preperation "
   ]
  },
  {
   "cell_type": "code",
   "execution_count": 66,
   "id": "29e35dc1",
   "metadata": {},
   "outputs": [
    {
     "data": {
      "text/plain": [
       "lead_source                 128\n",
       "industry                    134\n",
       "number_of_courses_viewed      0\n",
       "annual_income               181\n",
       "employment_status           100\n",
       "location                     63\n",
       "interaction_count             0\n",
       "lead_score                    0\n",
       "converted                     0\n",
       "dtype: int64"
      ]
     },
     "execution_count": 66,
     "metadata": {},
     "output_type": "execute_result"
    }
   ],
   "source": [
    "# check for missing values\n",
    "df.isnull().sum()"
   ]
  },
  {
   "cell_type": "code",
   "execution_count": 67,
   "id": "145511ff",
   "metadata": {},
   "outputs": [],
   "source": [
    "# Replace categorical feature with 'NA'\n",
    "categorical_features = [\n",
    "    'lead_source',\n",
    "    'industry',\n",
    "    'employment_status',\n",
    "    'location'\n",
    "]\n",
    "\n",
    "for feature in categorical_features:\n",
    "    df[feature] = df[feature].fillna('NA')\n"
   ]
  },
  {
   "cell_type": "code",
   "execution_count": 68,
   "id": "3d7e2462",
   "metadata": {},
   "outputs": [],
   "source": [
    "# Replace numerical feature with 0.0\n",
    "numerical_features = [\n",
    "    'annual_income'\n",
    "]\n",
    "\n",
    "for feature in numerical_features:\n",
    "    df[feature] = df[feature].fillna(0.0)"
   ]
  },
  {
   "cell_type": "markdown",
   "id": "3cbed2c9",
   "metadata": {},
   "source": [
    "## Question 1\n",
    "\n",
    "What is the most frequent observation (mode) for the column industry?"
   ]
  },
  {
   "cell_type": "code",
   "execution_count": 69,
   "id": "d908368d",
   "metadata": {},
   "outputs": [
    {
     "name": "stdout",
     "output_type": "stream",
     "text": [
      "<class 'pandas.core.frame.DataFrame'>\n",
      "RangeIndex: 1462 entries, 0 to 1461\n",
      "Data columns (total 9 columns):\n",
      " #   Column                    Non-Null Count  Dtype  \n",
      "---  ------                    --------------  -----  \n",
      " 0   lead_source               1462 non-null   object \n",
      " 1   industry                  1462 non-null   object \n",
      " 2   number_of_courses_viewed  1462 non-null   int64  \n",
      " 3   annual_income             1462 non-null   float64\n",
      " 4   employment_status         1462 non-null   object \n",
      " 5   location                  1462 non-null   object \n",
      " 6   interaction_count         1462 non-null   int64  \n",
      " 7   lead_score                1462 non-null   float64\n",
      " 8   converted                 1462 non-null   int64  \n",
      "dtypes: float64(2), int64(3), object(4)\n",
      "memory usage: 102.9+ KB\n"
     ]
    }
   ],
   "source": [
    "df.info()"
   ]
  },
  {
   "cell_type": "code",
   "execution_count": 70,
   "id": "37b84abe",
   "metadata": {},
   "outputs": [
    {
     "data": {
      "text/plain": [
       "industry\n",
       "retail           203\n",
       "finance          200\n",
       "other            198\n",
       "healthcare       187\n",
       "education        187\n",
       "technology       179\n",
       "manufacturing    174\n",
       "NA               134\n",
       "Name: count, dtype: int64"
      ]
     },
     "execution_count": 70,
     "metadata": {},
     "output_type": "execute_result"
    }
   ],
   "source": [
    "df['industry'].value_counts()"
   ]
  },
  {
   "cell_type": "code",
   "execution_count": 71,
   "id": "18326e30",
   "metadata": {},
   "outputs": [
    {
     "data": {
      "text/plain": [
       "0    retail\n",
       "Name: industry, dtype: object"
      ]
     },
     "execution_count": 71,
     "metadata": {},
     "output_type": "execute_result"
    }
   ],
   "source": [
    "# Show the most frequent observation (mode) for the column industry\n",
    "df['industry'].mode()"
   ]
  },
  {
   "cell_type": "code",
   "execution_count": 72,
   "id": "1a4cdbd7",
   "metadata": {},
   "outputs": [],
   "source": [
    "# Answer is retail"
   ]
  },
  {
   "cell_type": "markdown",
   "id": "594e1a56",
   "metadata": {},
   "source": [
    "##  Question 2\n",
    "\n",
    "Create the correlation matrix for the numerical features of your dataset. In a correlation matrix, you compute the correlation coefficient between every pair of features.\n",
    "\n",
    "What are the two features that have the biggest correlation?\n",
    "\n",
    "    * interaction_count and lead_score\n",
    "    * number_of_courses_viewed and lead_score\n",
    "    * number_of_courses_viewed and interaction_count\n",
    "    * annual_income and interaction_count\n",
    "\n",
    "\n"
   ]
  },
  {
   "cell_type": "code",
   "execution_count": 73,
   "id": "38fc58fc",
   "metadata": {},
   "outputs": [],
   "source": [
    "numerical_features = [\n",
    "    'number_of_courses_viewed',\n",
    "    'annual_income',\n",
    "    'interaction_count',\n",
    "    'lead_score',\n",
    "    'converted'\n",
    "]"
   ]
  },
  {
   "cell_type": "markdown",
   "id": "61d4ae5c",
   "metadata": {},
   "source": [
    "### 2.1 correlation for interaction_count and lead_score"
   ]
  },
  {
   "cell_type": "code",
   "execution_count": 74,
   "id": "b8f97bd8",
   "metadata": {},
   "outputs": [
    {
     "name": "stdout",
     "output_type": "stream",
     "text": [
      "Correlation between interaction_count and lead_score: 0.009888182496913077\n"
     ]
    }
   ],
   "source": [
    "corr_interaction_count_lead_score = df['interaction_count'].corr(df['lead_score'])\n",
    "\n",
    "print(f\"Correlation between interaction_count and lead_score: {corr_interaction_count_lead_score}\")"
   ]
  },
  {
   "cell_type": "markdown",
   "id": "9b01d9b6",
   "metadata": {},
   "source": [
    "### 2.2 Correlation for number_of_courses_viewed and lead_score"
   ]
  },
  {
   "cell_type": "code",
   "execution_count": 75,
   "id": "ac29928f",
   "metadata": {},
   "outputs": [
    {
     "name": "stdout",
     "output_type": "stream",
     "text": [
      "Correlation between number_of_courses_viewed and lead_score: -0.00487899835468127\n"
     ]
    }
   ],
   "source": [
    "corr_number_of_courses_viewed_lead_score = df['number_of_courses_viewed'].corr(df['lead_score'])\n",
    "print(f\"Correlation between number_of_courses_viewed and lead_score: {corr_number_of_courses_viewed_lead_score}\")"
   ]
  },
  {
   "cell_type": "markdown",
   "id": "f89a3f5f",
   "metadata": {},
   "source": [
    "### 2.3 Correlation for number_of_courses_viewed and interaction_count"
   ]
  },
  {
   "cell_type": "code",
   "execution_count": 76,
   "id": "33304f08",
   "metadata": {},
   "outputs": [
    {
     "name": "stdout",
     "output_type": "stream",
     "text": [
      "Correlation between number_of_courses_viewed and interaction_count: -0.023565222882888103\n"
     ]
    }
   ],
   "source": [
    "corr_number_of_courses_viewed_interaction_count = df['number_of_courses_viewed'].corr(df['interaction_count'])\n",
    "print(f\"Correlation between number_of_courses_viewed and interaction_count: {corr_number_of_courses_viewed_interaction_count}\")"
   ]
  },
  {
   "cell_type": "markdown",
   "id": "f723bfca",
   "metadata": {},
   "source": [
    "### 2.4 Coorelation for annual_income and interaction_count"
   ]
  },
  {
   "cell_type": "code",
   "execution_count": 77,
   "id": "4583e96f",
   "metadata": {},
   "outputs": [
    {
     "name": "stdout",
     "output_type": "stream",
     "text": [
      "Correlation between annual_income and interaction_count: 0.027036472404814337\n"
     ]
    }
   ],
   "source": [
    "corr_annual_income_interaction_count = df['annual_income'].corr(df['interaction_count'])\n",
    "print(f\"Correlation between annual_income and interaction_count: {corr_annual_income_interaction_count}\")"
   ]
  },
  {
   "cell_type": "code",
   "execution_count": 78,
   "id": "20fae90b",
   "metadata": {},
   "outputs": [
    {
     "name": "stdout",
     "output_type": "stream",
     "text": [
      "Biggest correlation: 0.027036472404814337\n"
     ]
    }
   ],
   "source": [
    "# Get the biggest correlation\n",
    "print(f\"Biggest correlation: {max(corr_interaction_count_lead_score, corr_number_of_courses_viewed_lead_score, corr_number_of_courses_viewed_interaction_count, corr_annual_income_interaction_count)}\")"
   ]
  },
  {
   "cell_type": "code",
   "execution_count": 79,
   "id": "5861333d",
   "metadata": {},
   "outputs": [],
   "source": [
    "# Answer is annual_income and interaction_count"
   ]
  },
  {
   "cell_type": "markdown",
   "id": "fb4f22ed",
   "metadata": {},
   "source": [
    "## Question 3\n",
    "\n",
    "Which of these variables has the biggest mutual information score?"
   ]
  },
  {
   "cell_type": "code",
   "execution_count": 80,
   "id": "417e6d9a",
   "metadata": {},
   "outputs": [
    {
     "name": "stdout",
     "output_type": "stream",
     "text": [
      "             Feature  Mutual Information\n",
      "0        lead_source                0.03\n",
      "1           industry                0.01\n",
      "2  employment_status                0.01\n",
      "3           location                0.00\n"
     ]
    }
   ],
   "source": [
    "from sklearn.feature_selection import mutual_info_classif\n",
    "from sklearn.model_selection import train_test_split\n",
    "from sklearn.preprocessing import LabelEncoder\n",
    "import pandas as pd\n",
    "\n",
    "X = df.drop(columns=['converted'])\n",
    "y = df['converted']\n",
    "\n",
    "X_train, X_test, y_train, y_test = train_test_split(X, y, test_size=0.2, random_state=42)\n",
    "\n",
    "categorical_features = ['lead_source', 'industry', 'employment_status', 'location']\n",
    "\n",
    "mi_scores = {}\n",
    "\n",
    "for col in categorical_features:\n",
    "    le = LabelEncoder()\n",
    "    encoded = le.fit_transform(X_train[col])\n",
    "    mi = mutual_info_classif(encoded.reshape(-1, 1), y_train, discrete_features=True)\n",
    "    mi_scores[col] = round(mi[0], 2)\n",
    "\n",
    "mi_df = pd.DataFrame(mi_scores.items(), columns=['Feature', 'Mutual Information']).sort_values(by='Mutual Information', ascending=False)\n",
    "print(mi_df)\n"
   ]
  },
  {
   "cell_type": "markdown",
   "id": "73269371",
   "metadata": {},
   "source": [
    "## Queastion 4\n",
    "\n",
    "What accuracy did you get?"
   ]
  },
  {
   "cell_type": "code",
   "execution_count": 81,
   "id": "ec8aec1a",
   "metadata": {},
   "outputs": [
    {
     "name": "stdout",
     "output_type": "stream",
     "text": [
      "Validation Accuracy: 0.86\n"
     ]
    }
   ],
   "source": [
    "from sklearn.model_selection import train_test_split\n",
    "from sklearn.linear_model import LogisticRegression\n",
    "from sklearn.preprocessing import StandardScaler, OneHotEncoder\n",
    "from sklearn.compose import ColumnTransformer\n",
    "from sklearn.pipeline import Pipeline\n",
    "from sklearn.metrics import accuracy_score\n",
    "\n",
    "X = df.drop(columns=['converted'])\n",
    "y = df['converted']\n",
    "\n",
    "numeric_features = ['number_of_courses_viewed', 'annual_income', 'interaction_count', 'lead_score']\n",
    "categorical_features = ['lead_source', 'industry', 'employment_status', 'location']\n",
    "\n",
    "numeric_transformer = StandardScaler()\n",
    "categorical_transformer = OneHotEncoder(handle_unknown='ignore')\n",
    "\n",
    "preprocessor = ColumnTransformer(\n",
    "    transformers=[\n",
    "        ('num', numeric_transformer, numeric_features),\n",
    "        ('cat', categorical_transformer, categorical_features)\n",
    "    ],\n",
    ")\n",
    "\n",
    "X_train, X_temp, y_train, y_temp = train_test_split(X, y, test_size=0.4, random_state=42)\n",
    "X_val, X_test, y_val, y_test = train_test_split(X_temp, y_temp, test_size=0.5, random_state=42)\n",
    "\n",
    "model = LogisticRegression(solver='liblinear', C=1.0, max_iter=1000, random_state=42)\n",
    "\n",
    "clf = Pipeline(steps=[\n",
    "    ('preprocessor', preprocessor),\n",
    "    ('model', model)\n",
    "])\n",
    "\n",
    "clf.fit(X_train, y_train)\n",
    "\n",
    "y_pred = clf.predict(X_val)\n",
    "\n",
    "accuracy = round(accuracy_score(y_val, y_pred), 2)\n",
    "print(\"Validation Accuracy:\", accuracy)\n"
   ]
  },
  {
   "cell_type": "markdown",
   "id": "656c7f5b",
   "metadata": {},
   "source": [
    "## Question 5 \n",
    "\n",
    "Which of following feature has the smallest difference?"
   ]
  },
  {
   "cell_type": "code",
   "execution_count": 82,
   "id": "54e7418c",
   "metadata": {},
   "outputs": [
    {
     "name": "stdout",
     "output_type": "stream",
     "text": [
      "Baseline accuracy: 0.8561643835616438\n"
     ]
    }
   ],
   "source": [
    "baseline_acc = accuracy_score(y_val, clf.predict(X_val))\n",
    "print(\"Baseline accuracy:\", baseline_acc)"
   ]
  },
  {
   "cell_type": "code",
   "execution_count": 83,
   "id": "45479751",
   "metadata": {},
   "outputs": [
    {
     "name": "stdout",
     "output_type": "stream",
     "text": [
      "number_of_courses_viewed: 0.1164\n",
      "annual_income: 0.0068\n",
      "interaction_count: 0.1473\n",
      "lead_score: 0.0068\n",
      "lead_source: 0.0582\n",
      "industry: 0.0000\n",
      "employment_status: 0.0137\n",
      "location: 0.0103\n"
     ]
    }
   ],
   "source": [
    "feature_sets = numeric_features + categorical_features\n",
    "diffs = {}\n",
    "\n",
    "\n",
    "for feature in feature_sets:\n",
    "    X_reduced = X.drop(columns=[feature])\n",
    "    preprocessor_reduced = ColumnTransformer(\n",
    "        transformers=[\n",
    "            ('num', numeric_transformer, [f for f in numeric_features if f != feature]),\n",
    "            ('cat', categorical_transformer, [f for f in categorical_features if f != feature])\n",
    "        ],\n",
    "        remainder='drop'\n",
    "    )\n",
    "    clf_reduced = Pipeline(steps=[('preprocessor', preprocessor_reduced), ('model', model)])\n",
    "    clf_reduced.fit(X_train[X_reduced.columns], y_train)\n",
    "    acc = accuracy_score(y_val, clf_reduced.predict(X_val[X_reduced.columns]))\n",
    "    diffs[feature] = baseline_acc - acc\n",
    "\n",
    "for f, d in diffs.items():\n",
    "    print(f\"{f}: {d:.4f}\")\n"
   ]
  },
  {
   "cell_type": "markdown",
   "id": "7afa9124",
   "metadata": {},
   "source": [
    "## Question 6\n",
    "\n",
    "Which of these C leads to the best accuracy on the validation set?"
   ]
  },
  {
   "cell_type": "code",
   "execution_count": 84,
   "id": "2852460c",
   "metadata": {},
   "outputs": [
    {
     "name": "stdout",
     "output_type": "stream",
     "text": [
      "C=0.01: Validation Accuracy=0.849\n",
      "C=0.1: Validation Accuracy=0.856\n",
      "C=1: Validation Accuracy=0.856\n",
      "C=10: Validation Accuracy=0.856\n",
      "C=100: Validation Accuracy=0.856\n"
     ]
    }
   ],
   "source": [
    "C_values = [0.01, 0.1, 1, 10, 100]\n",
    "results = {}\n",
    "\n",
    "for c in C_values:\n",
    "    model = LogisticRegression(solver='liblinear', C=c, max_iter=1000, random_state=42)\n",
    "    clf = Pipeline(steps=[('preprocessor', preprocessor), ('model', model)])\n",
    "    clf.fit(X_train, y_train)\n",
    "    y_pred = clf.predict(X_val)\n",
    "    acc = round(accuracy_score(y_val, y_pred), 3)\n",
    "    results[c] = acc\n",
    "\n",
    "for c, acc in results.items():\n",
    "    print(f\"C={c}: Validation Accuracy={acc}\")"
   ]
  }
 ],
 "metadata": {
  "kernelspec": {
   "display_name": "Python 3",
   "language": "python",
   "name": "python3"
  },
  "language_info": {
   "codemirror_mode": {
    "name": "ipython",
    "version": 3
   },
   "file_extension": ".py",
   "mimetype": "text/x-python",
   "name": "python",
   "nbconvert_exporter": "python",
   "pygments_lexer": "ipython3",
   "version": "3.11.0"
  }
 },
 "nbformat": 4,
 "nbformat_minor": 5
}
