{
 "cells": [
  {
   "cell_type": "markdown",
   "id": "b418af1e",
   "metadata": {},
   "source": [
    "# Homework 5 "
   ]
  },
  {
   "cell_type": "code",
   "execution_count": 8,
   "id": "6a4ed3ec",
   "metadata": {},
   "outputs": [
    {
     "name": "stdout",
     "output_type": "stream",
     "text": [
      "0.35.0\n"
     ]
    }
   ],
   "source": [
    "import uvicorn\n",
    "print(uvicorn.__version__)"
   ]
  },
  {
   "cell_type": "markdown",
   "id": "5318e21f",
   "metadata": {},
   "source": [
    "## Question 3"
   ]
  },
  {
   "cell_type": "code",
   "execution_count": 9,
   "id": "b036ef10",
   "metadata": {},
   "outputs": [
    {
     "name": "stdout",
     "output_type": "stream",
     "text": [
      "Loaded model type: <class 'sklearn.pipeline.Pipeline'>\n",
      "Step name: dictvectorizer, Step type: <class 'sklearn.feature_extraction._dict_vectorizer.DictVectorizer'>\n",
      "Step name: logisticregression, Step type: <class 'sklearn.linear_model._logistic.LogisticRegression'>\n",
      "Probability is: 0.534\n"
     ]
    },
    {
     "name": "stderr",
     "output_type": "stream",
     "text": [
      "C:\\Users\\Ahmed Sherif\\AppData\\Roaming\\Python\\Python311\\site-packages\\sklearn\\base.py:442: InconsistentVersionWarning: Trying to unpickle estimator DictVectorizer from version 1.6.1 when using version 1.7.1. This might lead to breaking code or invalid results. Use at your own risk. For more info please refer to:\n",
      "https://scikit-learn.org/stable/model_persistence.html#security-maintainability-limitations\n",
      "  warnings.warn(\n",
      "C:\\Users\\Ahmed Sherif\\AppData\\Roaming\\Python\\Python311\\site-packages\\sklearn\\base.py:442: InconsistentVersionWarning: Trying to unpickle estimator LogisticRegression from version 1.6.1 when using version 1.7.1. This might lead to breaking code or invalid results. Use at your own risk. For more info please refer to:\n",
      "https://scikit-learn.org/stable/model_persistence.html#security-maintainability-limitations\n",
      "  warnings.warn(\n",
      "C:\\Users\\Ahmed Sherif\\AppData\\Roaming\\Python\\Python311\\site-packages\\sklearn\\base.py:442: InconsistentVersionWarning: Trying to unpickle estimator Pipeline from version 1.6.1 when using version 1.7.1. This might lead to breaking code or invalid results. Use at your own risk. For more info please refer to:\n",
      "https://scikit-learn.org/stable/model_persistence.html#security-maintainability-limitations\n",
      "  warnings.warn(\n"
     ]
    }
   ],
   "source": [
    "import pickle \n",
    "\n",
    "with open(\"pipeline_v1.bin\",\"rb\") as f:\n",
    "    model = pickle.load(f)\n",
    "\n",
    "print(\"Loaded model type:\", type(model))\n",
    "\n",
    "for name, step in model.named_steps.items():\n",
    "    print(f\"Step name: {name}, Step type: {type(step)}\")\n",
    "\n",
    "record = {\n",
    "    \"lead_source\": \"paid_ads\",\n",
    "    \"number_of_courses_viewed\": 2,\n",
    "    \"annual_income\": 79276.0\n",
    "}\n",
    "\n",
    "prob = model.predict_proba([record])[0, 1]\n",
    "\n",
    "print(f\"Probability is: {prob:.3f}\")  # 0.534"
   ]
  },
  {
   "cell_type": "markdown",
   "id": "f394342e",
   "metadata": {},
   "source": [
    "## Question 4"
   ]
  },
  {
   "cell_type": "code",
   "execution_count": 10,
   "id": "87a195c5",
   "metadata": {},
   "outputs": [
    {
     "name": "stdout",
     "output_type": "stream",
     "text": [
      "{'conversion_probability': 0.534}\n"
     ]
    }
   ],
   "source": [
    "import requests\n",
    "\n",
    "url = \"http://127.0.0.1:8000/predict\"\n",
    "client = {\n",
    "    \"lead_source\": \"organic_search\",\n",
    "    \"number_of_courses_viewed\": 4,\n",
    "    \"annual_income\": 80304.0\n",
    "}\n",
    "\n",
    "response = requests.post(url, json=client)\n",
    "print(response.json())\n"
   ]
  },
  {
   "cell_type": "markdown",
   "id": "a0d357d6",
   "metadata": {},
   "source": [
    "## Question 5\n",
    "\n",
    "So what's the size of this base image?\n",
    "\n",
    "    45 MB\n",
    "    121 MB\n",
    "    245 MB\n",
    "    330 MB\n"
   ]
  },
  {
   "cell_type": "code",
   "execution_count": 11,
   "id": "ebaed406",
   "metadata": {},
   "outputs": [],
   "source": [
    "# Answer is: 232 MB"
   ]
  },
  {
   "cell_type": "markdown",
   "id": "cd761880",
   "metadata": {},
   "source": [
    "## Question 6"
   ]
  },
  {
   "cell_type": "code",
   "execution_count": 13,
   "id": "ecd6639b",
   "metadata": {},
   "outputs": [
    {
     "name": "stdout",
     "output_type": "stream",
     "text": [
      "{'conversion_probability': 0.534}\n"
     ]
    }
   ],
   "source": [
    "import requests\n",
    "\n",
    "url = \"http://127.0.0.1:8000/predict\"\n",
    "client = {\n",
    "    \"lead_source\": \"organic_search\",\n",
    "    \"number_of_courses_viewed\": 4,\n",
    "    \"annual_income\": 80304.0\n",
    "}\n",
    "response = requests.post(url, json=client)\n",
    "print(response.json())\n"
   ]
  },
  {
   "cell_type": "code",
   "execution_count": 12,
   "id": "905424be",
   "metadata": {},
   "outputs": [],
   "source": [
    "# 0.534"
   ]
  }
 ],
 "metadata": {
  "kernelspec": {
   "display_name": "Python 3",
   "language": "python",
   "name": "python3"
  },
  "language_info": {
   "codemirror_mode": {
    "name": "ipython",
    "version": 3
   },
   "file_extension": ".py",
   "mimetype": "text/x-python",
   "name": "python",
   "nbconvert_exporter": "python",
   "pygments_lexer": "ipython3",
   "version": "3.11.0"
  }
 },
 "nbformat": 4,
 "nbformat_minor": 5
}
